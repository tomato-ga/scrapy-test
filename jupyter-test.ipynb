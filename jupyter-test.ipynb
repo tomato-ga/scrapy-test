{
 "cells": [
  {
   "cell_type": "code",
   "execution_count": 3,
   "metadata": {},
   "outputs": [],
   "source": [
    "import json"
   ]
  },
  {
   "cell_type": "code",
   "execution_count": 4,
   "metadata": {},
   "outputs": [],
   "source": [
    "with open('./qiita/data.json', encoding='utf-8') as f:\n",
    "    qiita_data = json.load(f)"
   ]
  },
  {
   "cell_type": "code",
   "execution_count": 9,
   "metadata": {},
   "outputs": [],
   "source": [
    "titles = qiita_data[0]['titles']"
   ]
  },
  {
   "cell_type": "code",
   "execution_count": 11,
   "metadata": {},
   "outputs": [],
   "source": [
    "urls = qiita_data[0]['urls']"
   ]
  },
  {
   "cell_type": "code",
   "execution_count": 12,
   "metadata": {},
   "outputs": [
    {
     "data": {
      "text/plain": [
       "['https://qiita.com/noppefoxwolf/items/5b65ab3d62acd83a79cc',\n",
       " 'https://qiita.com/ko1nksm/items/87d27a287e1b6005d11c',\n",
       " 'https://qiita.com/choco_py3/items/98f4d2754c4b30dd384a',\n",
       " 'https://qiita.com/u2dayo/items/465c9299755ed20ee4d3',\n",
       " 'https://qiita.com/kaizen_nagoya/items/49c58fa6f4278717d061',\n",
       " 'https://qiita.com/gushwell/items/df3ef1f0c583feeead75',\n",
       " 'https://qiita.com/hanaseleb/items/55ef042f7180a6b15dab',\n",
       " 'https://qiita.com/KangsooKim/items/8d987a7089297068477b',\n",
       " 'https://qiita.com/Naughty1029/items/ce8503231c6a9b6b9772',\n",
       " 'https://qiita.com/nem_takanobu/items/571f7dc2e05b672b525d',\n",
       " 'https://qiita.com/ishiayaya/items/6389215d11d44c41cca2',\n",
       " 'https://qiita.com/mhwtss/items/430c2a6c2f9f8c7dbe80',\n",
       " 'https://qiita.com/mu-suke08/items/43a492fda5cd71a31506',\n",
       " 'https://qiita.com/riku929hr/items/15415d34ee5fc412c126',\n",
       " 'https://qiita.com/naoKyo/items/862a2cb1664a8dad4128',\n",
       " 'https://qiita.com/Tyamamoto1007/items/050a1d42c18541de1a83',\n",
       " 'https://qiita.com/kaizen_nagoya/items/8045978b16eb49d572b2',\n",
       " 'https://qiita.com/morinota/items/8ce462da559295b57eec',\n",
       " 'https://qiita.com/hk512/items/cf780de8cdbc323e0820',\n",
       " 'https://qiita.com/y-suzu/items/0698de028937a972d275',\n",
       " 'https://qiita.com/sina417/items/e0a24ee95a10bfa87b7a',\n",
       " 'https://qiita.com/kitara/items/43a93e479e0bbe86f6ed',\n",
       " 'https://qiita.com/suzuSho/items/32b6a0759f6c8283cd79',\n",
       " 'https://qiita.com/h53/items/3348080cc4e8c4a984f8',\n",
       " 'https://qiita.com/e99h2121/items/fc94960448cb3341f80b',\n",
       " 'https://qiita.com/kurumatu/items/c49bb35a3e1fcd2b5aab',\n",
       " 'https://qiita.com/papi_tokei/items/6051cb55c2843b2c3cdf',\n",
       " 'https://qiita.com/TumoiYorozu/items/e645ccf7c35e56b0eca2',\n",
       " 'https://qiita.com/ka-son11/items/59d991c15c5d64284eeb',\n",
       " 'https://qiita.com/degudegu2510/items/c5926b62062b89eb1eaf']"
      ]
     },
     "execution_count": 12,
     "metadata": {},
     "output_type": "execute_result"
    }
   ],
   "source": [
    "urls"
   ]
  },
  {
   "cell_type": "code",
   "execution_count": 13,
   "metadata": {},
   "outputs": [
    {
     "data": {
      "text/plain": [
       "['SwiftUIにおける拡張。そして再発明の危険性',\n",
       " '利用者は数十億人！？ SQLiteはどこが凄いデータベース管理システムなのか調べてみた',\n",
       " '今から合格を掴み取る！情報処理技術者試験攻略法',\n",
       " '【AtCoder解説】PythonでABC242のA,B,C,D,E問題を制する！',\n",
       " '「何もしていないのに壊れた」インフラエンジニアの対応例',\n",
       " 'C#の進化を垣間見てみよう - .NET 20周年を記念して',\n",
       " '[Python] PyCaretでKaggleの回帰問題に挑戦！',\n",
       " '機械学習エンジニアに爆速でなるための教材集',\n",
       " '【個人開発】全部おれの声！？2歳娘のために簡易ゲームをつくった【React】',\n",
       " 'ローコード開発ツールRetoolで爆速Symbolブロックチェーンウォレット開発（前編）',\n",
       " 'ExcelからPower BIデータセットへの接続でエラーがでた場合の対処',\n",
       " 'オタク向け蔵書管理アプリを35分で作ってみる #Appsheet',\n",
       " 'コードを綺麗に保ちたい？それhuskyでできるよ！',\n",
       " 'pushしてからrebaseはダメ！',\n",
       " '[Swift] え、onAppearまだ使ってるの？！',\n",
       " '渾身の個人開発で「誰にも使ってもらえない」に陥らないための5つの指針',\n",
       " '「何を」よりも「誰を」。１０年後のために今見習いたい人たち',\n",
       " '「卓球競技団体戦における\"ダブルスの勝敗\"が\"団体戦の勝敗\"に与える因果効果を定量化したい」ステップ⓪Tリーグ試合データのスクレイピングによるデータセット作成',\n",
       " '\"Line Notify\"を利用してPythonでLineに通知を送る',\n",
       " 'git add とgit commitの取り消し',\n",
       " '未経験つよつよエンジニアがうらやましい話',\n",
       " 'pyATS/GenieでNW障害テストを自動化する',\n",
       " 'WSL環境に fish shell を入れたらいい感じのターミナルになった',\n",
       " 'Crystal言語の紹介と、Crystalで日報ファイル作成スクリプトを（再）実装した話',\n",
       " 'Pythonがプログラミング初学者に嬉しい理由',\n",
       " 'Magentaによるピアノ自動採譜のやり方',\n",
       " 'Pythonのlogging入門',\n",
       " '#include<bits/stdc++.h> せずに標準ライブラリヘッダを全て include する🤔',\n",
       " 'ドラ●エのモンスター名っぽい文章生成してみる(N階マルコフ連鎖/形態素解析・超入門編)【人工無脳】',\n",
       " 'Grid Layout の特徴とその使い方。']"
      ]
     },
     "execution_count": 13,
     "metadata": {},
     "output_type": "execute_result"
    }
   ],
   "source": [
    "titles"
   ]
  },
  {
   "cell_type": "code",
   "execution_count": 15,
   "metadata": {},
   "outputs": [
    {
     "name": "stdout",
     "output_type": "stream",
     "text": [
      "SwiftUIにおける拡張。そして再発明の危険性 https://qiita.com/noppefoxwolf/items/5b65ab3d62acd83a79cc\n",
      "利用者は数十億人！？ SQLiteはどこが凄いデータベース管理システムなのか調べてみた https://qiita.com/ko1nksm/items/87d27a287e1b6005d11c\n",
      "今から合格を掴み取る！情報処理技術者試験攻略法 https://qiita.com/choco_py3/items/98f4d2754c4b30dd384a\n",
      "【AtCoder解説】PythonでABC242のA,B,C,D,E問題を制する！ https://qiita.com/u2dayo/items/465c9299755ed20ee4d3\n",
      "「何もしていないのに壊れた」インフラエンジニアの対応例 https://qiita.com/kaizen_nagoya/items/49c58fa6f4278717d061\n",
      "C#の進化を垣間見てみよう - .NET 20周年を記念して https://qiita.com/gushwell/items/df3ef1f0c583feeead75\n",
      "[Python] PyCaretでKaggleの回帰問題に挑戦！ https://qiita.com/hanaseleb/items/55ef042f7180a6b15dab\n",
      "機械学習エンジニアに爆速でなるための教材集 https://qiita.com/KangsooKim/items/8d987a7089297068477b\n",
      "【個人開発】全部おれの声！？2歳娘のために簡易ゲームをつくった【React】 https://qiita.com/Naughty1029/items/ce8503231c6a9b6b9772\n",
      "ローコード開発ツールRetoolで爆速Symbolブロックチェーンウォレット開発（前編） https://qiita.com/nem_takanobu/items/571f7dc2e05b672b525d\n",
      "ExcelからPower BIデータセットへの接続でエラーがでた場合の対処 https://qiita.com/ishiayaya/items/6389215d11d44c41cca2\n",
      "オタク向け蔵書管理アプリを35分で作ってみる #Appsheet https://qiita.com/mhwtss/items/430c2a6c2f9f8c7dbe80\n",
      "コードを綺麗に保ちたい？それhuskyでできるよ！ https://qiita.com/mu-suke08/items/43a492fda5cd71a31506\n",
      "pushしてからrebaseはダメ！ https://qiita.com/riku929hr/items/15415d34ee5fc412c126\n",
      "[Swift] え、onAppearまだ使ってるの？！ https://qiita.com/naoKyo/items/862a2cb1664a8dad4128\n",
      "渾身の個人開発で「誰にも使ってもらえない」に陥らないための5つの指針 https://qiita.com/Tyamamoto1007/items/050a1d42c18541de1a83\n",
      "「何を」よりも「誰を」。１０年後のために今見習いたい人たち https://qiita.com/kaizen_nagoya/items/8045978b16eb49d572b2\n",
      "「卓球競技団体戦における\"ダブルスの勝敗\"が\"団体戦の勝敗\"に与える因果効果を定量化したい」ステップ⓪Tリーグ試合データのスクレイピングによるデータセット作成 https://qiita.com/morinota/items/8ce462da559295b57eec\n",
      "\"Line Notify\"を利用してPythonでLineに通知を送る https://qiita.com/hk512/items/cf780de8cdbc323e0820\n",
      "git add とgit commitの取り消し https://qiita.com/y-suzu/items/0698de028937a972d275\n",
      "未経験つよつよエンジニアがうらやましい話 https://qiita.com/sina417/items/e0a24ee95a10bfa87b7a\n",
      "pyATS/GenieでNW障害テストを自動化する https://qiita.com/kitara/items/43a93e479e0bbe86f6ed\n",
      "WSL環境に fish shell を入れたらいい感じのターミナルになった https://qiita.com/suzuSho/items/32b6a0759f6c8283cd79\n",
      "Crystal言語の紹介と、Crystalで日報ファイル作成スクリプトを（再）実装した話 https://qiita.com/h53/items/3348080cc4e8c4a984f8\n",
      "Pythonがプログラミング初学者に嬉しい理由 https://qiita.com/e99h2121/items/fc94960448cb3341f80b\n",
      "Magentaによるピアノ自動採譜のやり方 https://qiita.com/kurumatu/items/c49bb35a3e1fcd2b5aab\n",
      "Pythonのlogging入門 https://qiita.com/papi_tokei/items/6051cb55c2843b2c3cdf\n",
      "#include<bits/stdc++.h> せずに標準ライブラリヘッダを全て include する🤔 https://qiita.com/TumoiYorozu/items/e645ccf7c35e56b0eca2\n",
      "ドラ●エのモンスター名っぽい文章生成してみる(N階マルコフ連鎖/形態素解析・超入門編)【人工無脳】 https://qiita.com/ka-son11/items/59d991c15c5d64284eeb\n",
      "Grid Layout の特徴とその使い方。 https://qiita.com/degudegu2510/items/c5926b62062b89eb1eaf\n"
     ]
    }
   ],
   "source": [
    "for title, url in zip(titles, urls):\n",
    "    print(title, url)"
   ]
  },
  {
   "cell_type": "code",
   "execution_count": null,
   "metadata": {},
   "outputs": [],
   "source": []
  }
 ],
 "metadata": {
  "interpreter": {
   "hash": "845a96eef595cee452bf7b2a3821750e3d1493d4027685193c8ce823d175e363"
  },
  "kernelspec": {
   "display_name": "Python 3.10.2 64-bit (windows store)",
   "language": "python",
   "name": "python3"
  },
  "language_info": {
   "codemirror_mode": {
    "name": "ipython",
    "version": 3
   },
   "file_extension": ".py",
   "mimetype": "text/x-python",
   "name": "python",
   "nbconvert_exporter": "python",
   "pygments_lexer": "ipython3",
   "version": "3.10.0"
  },
  "orig_nbformat": 4
 },
 "nbformat": 4,
 "nbformat_minor": 2
}
